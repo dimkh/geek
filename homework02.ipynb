{
 "metadata": {
  "language_info": {
   "codemirror_mode": {
    "name": "ipython",
    "version": 3
   },
   "file_extension": ".py",
   "mimetype": "text/x-python",
   "name": "python",
   "nbconvert_exporter": "python",
   "pygments_lexer": "ipython3",
   "version": "3.8.3-final"
  },
  "orig_nbformat": 2,
  "kernelspec": {
   "name": "python3",
   "display_name": "Python 3",
   "language": "python"
  }
 },
 "nbformat": 4,
 "nbformat_minor": 2,
 "cells": [
  {
   "cell_type": "code",
   "execution_count": 17,
   "metadata": {},
   "outputs": [
    {
     "output_type": "stream",
     "name": "stdout",
     "text": [
      "Точность 0.001, достигнута на 84-м шаге.\ni-й элемент: 2.618690898433316, i-1-й элемент: 2.617701998673183, разница: 0.0009888997601330551\n"
     ]
    }
   ],
   "source": [
    "# Алгоритм, реализующий вычисление предела с заданной точностью\n",
    "import math\n",
    "\n",
    "accuracy = 10**-3       # При увеличении точности до 10**-4 при выполнении программы\n",
    "                        # возникает ошибка выполнения\n",
    "n = 0\n",
    "i = 1\n",
    "\n",
    "while True:\n",
    "    m = i / (math.factorial(i)**(1/i))\n",
    "    if abs(m - n) < accuracy:\n",
    "        break\n",
    "    i += 1\n",
    "    n = m\n",
    "print(f'Точность {accuracy}, достигнута на {i}-м шаге.')\n",
    "print(f'i-й элемент: {m}, i-1-й элемент: {n}, разница: {m-n}')\n"
   ]
  },
  {
   "cell_type": "code",
   "execution_count": 27,
   "metadata": {},
   "outputs": [
    {
     "output_type": "stream",
     "name": "stdout",
     "text": [
      "Точность 1e-10, достигнута на 433351-м шаге.\ni-й элемент: 2.718235356975357, i-1-й элемент: 2.7182353568753572, разница: 9.999956418482725e-11\nВремя выполнения: 0.26828479766845703 секунд\n"
     ]
    }
   ],
   "source": [
    "# Алгоритм, реализующий вычисление предела с заданной точностью\n",
    "# Модифицированная версия с использованием формулы Стирлинга\n",
    "import math\n",
    "import time\n",
    "\n",
    "accuracy = 10**-10       # Увеличил точность для сравнения скорости с оптимизированным алгоритмом\n",
    "n = 0\n",
    "i = 1\n",
    "\n",
    "start_time = time.time()\n",
    "while True:\n",
    "    m = math.e / ((2 * math.pi * i) ** (1 / (2 * i)))\n",
    "    if abs(m - n) < accuracy:\n",
    "        break\n",
    "    i += 1\n",
    "    n = m\n",
    "\n",
    "print(f'Точность {accuracy}, достигнута на {i}-м шаге.')\n",
    "print(f'i-й элемент: {m}, i-1-й элемент: {n}, разница: {m-n}')\n",
    "print(f'Время выполнения: {time.time() - start_time} секунд')\n"
   ]
  },
  {
   "cell_type": "code",
   "execution_count": 29,
   "metadata": {},
   "outputs": [
    {
     "output_type": "stream",
     "name": "stdout",
     "text": [
      "Наден нужный интервал с шагом 10000\nНаден нужный интервал с шагом 1000\nНаден нужный интервал с шагом 100\nНаден нужный интервал с шагом 10\nТочность 1e-10, достигнута на 433351-м шаге.\ni-й элемент: 2.718235356975357, i-1-й элемент: 2.7182353568753572, разница: 9.999956418482725e-11\nВремя выполнения: 0.0009970664978027344 секунд\n"
     ]
    }
   ],
   "source": [
    "# Алгоритм, реализующий вычисление предела с заданной точностью\n",
    "# Модифицированная версия с использованием формулы Стирлинга\n",
    "# Оптимизация путём сокращения количества вычислений: вначале i увеличиваем на 10^4,\n",
    "# далее найденный интервал с решением проходим с i = 10^3 и т.д.\n",
    "import math\n",
    "import time\n",
    "\n",
    "accuracy = 10**-10       # Увеличил точность для сравнения скорости с оригинальным алгоритмом\n",
    "step = 10**4\n",
    "divisor = 10\n",
    "i = 1\n",
    "\n",
    "start_time = time.time()\n",
    "while True:\n",
    "    n = math.e / ((2 * math.pi * i) ** (1 / (2 * i)))\n",
    "    m = math.e / ((2 * math.pi * (i+1)) ** (1 / (2 * (i+1))))\n",
    "    if abs(m - n) < accuracy:\n",
    "        if step > 1:               # Найден искомый диапазон - сокращаем шаг и дальше поиск уже в нём\n",
    "            print(f'Наден нужный интервал с шагом {step}')\n",
    "            i -= step\n",
    "            step = int(step / 10)\n",
    "        else:                       # Найден нужный элемент последовательности\n",
    "            break\n",
    "    i += step\n",
    "    n = m\n",
    "\n",
    "print(f'Точность {accuracy}, достигнута на {i+1}-м шаге.')\n",
    "print(f'i-й элемент: {m}, i-1-й элемент: {n}, разница: {m-n}')\n",
    "print(f'Время выполнения: {time.time() - start_time} секунд')\n"
   ]
  },
  {
   "cell_type": "code",
   "execution_count": null,
   "metadata": {},
   "outputs": [],
   "source": []
  }
 ]
}