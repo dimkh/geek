{
 "metadata": {
  "language_info": {
   "codemirror_mode": {
    "name": "ipython",
    "version": 3
   },
   "file_extension": ".py",
   "mimetype": "text/x-python",
   "name": "python",
   "nbconvert_exporter": "python",
   "pygments_lexer": "ipython3",
   "version": "3.9.0-final"
  },
  "orig_nbformat": 2,
  "kernelspec": {
   "name": "python3",
   "display_name": "Python 3.9.0 64-bit",
   "metadata": {
    "interpreter": {
     "hash": "d90a11fc6ba3ffcd76a10e0bcd7be1d3375e62150250c69a519358e1b3dc5de4"
    }
   }
  }
 },
 "nbformat": 4,
 "nbformat_minor": 2,
 "cells": [
  {
   "cell_type": "code",
   "execution_count": 1,
   "metadata": {},
   "outputs": [
    {
     "output_type": "stream",
     "name": "stdout",
     "text": [
      "Матрица A:\n[[1, 2, 3], [4, 5, 6]]\nМатрица B:\n[[6, 5], [4, 3], [2, 1]]\n\nРезультат произведения матриц A и B:\n[[20, 14], [56, 41]]\n\nПроверка произведения с помощью numpy:\n[[20 14]\n [56 41]]\n"
     ]
    }
   ],
   "source": [
    "import sys\n",
    "import numpy as np        # Для проверки\n",
    "\n",
    "# Матрицы заданы заранее (для демонстрации)\n",
    "# Если нужен ручной ввод - поставить False\n",
    "AUTO_WORK = True\n",
    "\n",
    "if AUTO_WORK:\n",
    "    A_row = 2\n",
    "    A_col = 3\n",
    "    B_row = 3\n",
    "    B_col = 2\n",
    "    A = [[1, 2, 3], [4, 5, 6]]\n",
    "    B = [[6, 5], [4, 3], [2, 1]]\n",
    "else:\n",
    "    # Уточняем размерность матриц\n",
    "    A_row = int(input('Введите количество строк 1-й матрицы (A): '))\n",
    "    A_col = int(input('Введите количество столбцов 1-й матрицы (A): '))\n",
    "    B_row = int(input('Введите количество строк 2-й матрицы (B): '))\n",
    "    B_col = int(input('Введите количество столбцов 2-й матрицы (B): '))\n",
    "\n",
    "    # Проверка размерности\n",
    "    if A_col != B_row:\n",
    "        print('Невозможно выполнить умножение матриц заданного размера!')\n",
    "        sys.exit()\n",
    "\n",
    "    # Создание матриц\n",
    "    A = [[0] * A_col for i in range(A_row)]\n",
    "    B = [[0] * B_col for j in range(B_row)]\n",
    "\n",
    "    # Заполнение матриц\n",
    "    print(\"\\nЗаполните поэлементно матрицу А\")\n",
    "    for i in range(A_row):\n",
    "        for j in range(A_col):\n",
    "            A[i][j] = int(input(f\"Введите элемент [{i},{j}]: \"))\n",
    "\n",
    "    print(\"\\nЗаполните поэлементно матрицу B\")\n",
    "    for i in range(B_row):\n",
    "        for j in range(B_col):\n",
    "            B[i][j] = int(input(f\"Введите элемент [{i},{j}]: \"))\n",
    "\n",
    "# Создание итоговой матрицы\n",
    "R = [[0] * A_row for i in range(B_col)]\n",
    "\n",
    "# Перемножение матриц\n",
    "for i in range(A_row):\n",
    "    for j in range(B_col):\n",
    "        for k in range(A_col):\n",
    "            R[i][j] += A[i][k] * B[k][j]\n",
    "\n",
    "print(\"Матрица A:\")\n",
    "print(A)\n",
    "print(\"Матрица B:\")\n",
    "print(B)\n",
    "print(\"\\nРезультат произведения матриц A и B:\")\n",
    "print(R)\n",
    "print(\"\\nПроверка произведения с помощью numpy:\")\n",
    "print(np.dot(A, B))\n"
   ]
  },
  {
   "cell_type": "code",
   "execution_count": null,
   "metadata": {},
   "outputs": [],
   "source": []
  }
 ]
}