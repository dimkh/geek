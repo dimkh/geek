{
 "metadata": {
  "language_info": {
   "codemirror_mode": {
    "name": "ipython",
    "version": 3
   },
   "file_extension": ".py",
   "mimetype": "text/x-python",
   "name": "python",
   "nbconvert_exporter": "python",
   "pygments_lexer": "ipython3",
   "version": "3.8.3-final"
  },
  "orig_nbformat": 2,
  "kernelspec": {
   "name": "python383jvsc74a57bd075aa73c79266d4692a2df8ead62ea8bbacfe1ac0263c8d6d94a969dc4efeff59",
   "display_name": "Python 3.8.3 64-bit"
  }
 },
 "nbformat": 4,
 "nbformat_minor": 2,
 "cells": [
  {
   "cell_type": "code",
   "execution_count": 37,
   "metadata": {},
   "outputs": [],
   "source": [
    "import numpy as np\n",
    "import scipy.linalg\n",
    "import math\n",
    "np.set_printoptions(precision=2, suppress=True)"
   ]
  },
  {
   "cell_type": "code",
   "execution_count": 38,
   "metadata": {},
   "outputs": [
    {
     "output_type": "stream",
     "name": "stdout",
     "text": [
      "Матрица A:\n[[ 1  2  0]\n [ 0  0  5]\n [ 3 -4  2]\n [ 1  6  5]\n [ 0  1  0]]\n"
     ]
    }
   ],
   "source": [
    "# Исходная матрица A\n",
    "A = np.array([[1, 2, 0], [0, 0, 5], [3, -4, 2], [1, 6, 5], [0, 1, 0]])\n",
    "print(f'Матрица A:\\n{A}')"
   ]
  },
  {
   "cell_type": "code",
   "execution_count": 39,
   "metadata": {},
   "outputs": [],
   "source": [
    "U, s, W = np.linalg.svd(A)\n",
    "# Транспонируем матрицу W\n",
    "V = W.T\n",
    "\n",
    "# s - список диагональных элементов, его нужно привести к виду диагональной матрицы для наглядности\n",
    "D = np.zeros_like(A, dtype=float)\n",
    "D[np.diag_indices(min(A.shape))] = s"
   ]
  },
  {
   "cell_type": "code",
   "execution_count": 40,
   "metadata": {},
   "outputs": [
    {
     "output_type": "stream",
     "name": "stdout",
     "text": [
      "Матрица D:\n[[8.82 0.   0.  ]\n [0.   6.14 0.  ]\n [0.   0.   2.53]\n [0.   0.   0.  ]\n [0.   0.   0.  ]]\nМатрица U:\n[[ 0.17  0.16 -0.53 -0.8  -0.16]\n [ 0.39 -0.53  0.61 -0.43  0.03]\n [-0.14 -0.82 -0.52  0.14  0.07]\n [ 0.89  0.06 -0.25  0.38 -0.06]\n [ 0.08  0.11 -0.08 -0.11  0.98]]\nМатрица V:\n[[ 0.07 -0.37 -0.93]\n [ 0.72  0.67 -0.21]\n [ 0.69 -0.65  0.31]]\n"
     ]
    }
   ],
   "source": [
    "print(f'Матрица D:\\n{D}')\n",
    "print(f'Матрица U:\\n{U}')\n",
    "print(f'Матрица V:\\n{V}')"
   ]
  },
  {
   "cell_type": "code",
   "execution_count": 41,
   "metadata": {},
   "outputs": [
    {
     "output_type": "stream",
     "name": "stdout",
     "text": [
      "[[ 1.  0. -0.  0. -0.]\n [ 0.  1.  0.  0.  0.]\n [-0.  0.  1. -0. -0.]\n [ 0.  0. -0.  1. -0.]\n [-0.  0. -0. -0.  1.]]\n"
     ]
    }
   ],
   "source": [
    "# Убедимся, что U действительно ортогональна\n",
    "print(np.dot(U.T, U))"
   ]
  },
  {
   "cell_type": "code",
   "execution_count": 42,
   "metadata": {},
   "outputs": [
    {
     "output_type": "stream",
     "name": "stdout",
     "text": [
      "[[ 1.  0. -0.]\n [ 0.  1. -0.]\n [-0. -0.  1.]]\n"
     ]
    }
   ],
   "source": [
    "# Убедимся, что V действительно ортогональна\n",
    "print(np.dot(V.T, V))"
   ]
  },
  {
   "cell_type": "code",
   "execution_count": 43,
   "metadata": {},
   "outputs": [
    {
     "output_type": "stream",
     "name": "stdout",
     "text": [
      "[[ 1.  2.  0.]\n [ 0. -0.  5.]\n [ 3. -4.  2.]\n [ 1.  6.  5.]\n [-0.  1. -0.]]\n"
     ]
    }
   ],
   "source": [
    "# Проведем проверку - должна получиться исходная матрица А\n",
    "print(np.dot(np.dot(U, D), V.T))"
   ]
  },
  {
   "cell_type": "code",
   "execution_count": 44,
   "metadata": {},
   "outputs": [
    {
     "output_type": "stream",
     "name": "stdout",
     "text": [
      "Евклидова норма: 8.824868854820444\n"
     ]
    }
   ],
   "source": [
    "# Евклидова норма\n",
    "# Равна наибольшему сингулярному значению исходной матрицы\n",
    "print(f'Евклидова норма:', np.linalg.norm(A, ord=2))"
   ]
  },
  {
   "cell_type": "code",
   "execution_count": 45,
   "metadata": {},
   "outputs": [
    {
     "output_type": "stream",
     "name": "stdout",
     "text": [
      "Норма Фробениуса: 11.045361017187261\n"
     ]
    }
   ],
   "source": [
    "# Норма Фробениуса\n",
    "print(f'Норма Фробениуса:', np.linalg.norm(A, ord=None))"
   ]
  }
 ]
}