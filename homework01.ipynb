{
 "metadata": {
  "language_info": {
   "codemirror_mode": {
    "name": "ipython",
    "version": 3
   },
   "file_extension": ".py",
   "mimetype": "text/x-python",
   "name": "python",
   "nbconvert_exporter": "python",
   "pygments_lexer": "ipython3",
   "version": "3.8.3-final"
  },
  "orig_nbformat": 2,
  "kernelspec": {
   "name": "python3",
   "display_name": "Python 3",
   "language": "python"
  }
 },
 "nbformat": 4,
 "nbformat_minor": 2,
 "cells": [
  {
   "cell_type": "code",
   "execution_count": 14,
   "metadata": {},
   "outputs": [
    {
     "output_type": "stream",
     "name": "stdout",
     "text": [
      "{1, 2, 3, 4, 5, 6, 7, 8, 9, 10}\n{1, 2, 3, 4, 5, 6, 7, 8, 9, 10}\n{1, 2, 3, 4, 5, 6, 7, 8, 9, 10}\n"
     ]
    }
   ],
   "source": [
    "# Объединение множеств (дизъюнкция)\n",
    "A = {1, 2, 3, 4, 5, 6}\n",
    "B = {4, 5, 6, 7, 8, 9}\n",
    "C = {5, 6, 7, 8, 9, 10}\n",
    "\n",
    "D = C.union(B.union(A))\n",
    "print(D)\n",
    "D = B.union(A.union(C))\n",
    "print(D)\n",
    "D = A.union(C.union(B))\n",
    "print(D)"
   ]
  },
  {
   "cell_type": "code",
   "execution_count": 18,
   "metadata": {},
   "outputs": [
    {
     "output_type": "stream",
     "name": "stdout",
     "text": [
      "{4, 5, 6}\n{5, 6}\n{5, 6, 7, 8, 9}\n{5, 6}\n{5, 6}\n{5, 6}\n"
     ]
    }
   ],
   "source": [
    "# Пересечение множеств (конъюнкция)\n",
    "A = {1, 2, 3, 4, 5, 6}\n",
    "B = {4, 5, 6, 7, 8, 9}\n",
    "C = {5, 6, 7, 8, 9, 10}\n",
    "\n",
    "D = B.intersection(A)\n",
    "print(D)\n",
    "print(C.intersection(D))\n",
    "D = B.intersection(C)\n",
    "print(D)\n",
    "print(A.intersection(D))\n",
    "D = A.intersection(C)\n",
    "print(D)\n",
    "print(B.intersection(D))"
   ]
  },
  {
   "cell_type": "code",
   "execution_count": 21,
   "metadata": {},
   "outputs": [
    {
     "output_type": "stream",
     "name": "stdout",
     "text": [
      "{8, 9, 7}\n{10, 5, 6}\n{1, 2, 3}\n{5, 6, 7, 8, 9, 10}\n{8, 9, 7}\nset()\n{1, 2, 3}\n{1, 2, 3}\n"
     ]
    }
   ],
   "source": [
    "# Разность множеств\n",
    "A = {1, 2, 3, 4, 5, 6}\n",
    "B = {4, 5, 6, 7, 8, 9}\n",
    "C = {5, 6, 7, 8, 9, 10}\n",
    "\n",
    "D = B.difference(A)\n",
    "print(D)\n",
    "print(C.difference(D))\n",
    "D = A.difference(B)\n",
    "print(D)\n",
    "print(C.difference(D))\n",
    "D = B.difference(A)\n",
    "print(D)\n",
    "print(D.difference(C))\n",
    "D = A.difference(B)\n",
    "print(D)\n",
    "print(D.difference(C))\n",
    "\n",
    "# Аналогично комбинировать разность A и C, затем B. И разность C и B, затем A\n"
   ]
  },
  {
   "cell_type": "code",
   "execution_count": 24,
   "metadata": {},
   "outputs": [
    {
     "output_type": "stream",
     "name": "stdout",
     "text": [
      "{1, 2, 3, 7, 8, 9}\n{1, 2, 3, 5, 6, 10}\n{4, 10}\n{1, 2, 3, 5, 6, 10}\n{1, 2, 3, 4, 7, 8, 9, 10}\n{4, 10}\n"
     ]
    }
   ],
   "source": [
    "# Симметрическая разность множеств\n",
    "A = {1, 2, 3, 4, 5, 6}\n",
    "B = {4, 5, 6, 7, 8, 9}\n",
    "C = {5, 6, 7, 8, 9, 10}\n",
    "\n",
    "D = B.symmetric_difference(A)\n",
    "print(D)\n",
    "print(C.symmetric_difference(D))\n",
    "D = B.symmetric_difference(C)\n",
    "print(D)\n",
    "print(A.symmetric_difference(D))\n",
    "D = C.symmetric_difference(A)\n",
    "print(D)\n",
    "print(B.symmetric_difference(C))\n"
   ]
  },
  {
   "cell_type": "code",
   "execution_count": null,
   "metadata": {},
   "outputs": [],
   "source": []
  }
 ]
}